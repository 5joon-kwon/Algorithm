{
 "cells": [
  {
   "cell_type": "code",
   "execution_count": 67,
   "metadata": {},
   "outputs": [
    {
     "name": "stdout",
     "output_type": "stream",
     "text": [
      "[2,1]\n",
      "error\n",
      "[1,2,3,5,8]\n",
      "error\n"
     ]
    }
   ],
   "source": [
    "import sys\n",
    "T = int(input())\n",
    "\n",
    "for _ in range(T):\n",
    "    p = sys.stdin.readline().strip()\n",
    "    n = int(sys.stdin.readline().strip())\n",
    "    li = sys.stdin.readline().strip()\n",
    "    num = li[1:-1]\n",
    "    flag = 0\n",
    "    \n",
    "    if ',' in num:\n",
    "        num = num.split(',')\n",
    "    else:\n",
    "        num = [num]\n",
    "        \n",
    "    for i in p:\n",
    "        if i == 'R':\n",
    "            # 여기서 매번 reverse를 해주다 보니 시간초과가 발생 !
    "            num.reverse()\n",
    "        else:\n",
    "            if len(num) == 0 or num == ['']:\n",
    "                flag = 1\n",
    "                break\n",
    "            else:\n",
    "                num.pop(0)\n",
    "    \n",
    "    if flag == 1:\n",
    "        print('error')\n",
    "    else:\n",
    "        if len(num) == (0 or 1):\n",
    "            res = ''.join(num)\n",
    "            print('[' + res + ']')\n",
    "        else:\n",
    "            res = ','.join(num)\n",
    "            print('[' + res + ']')"
   ]
  }
 ],
 "metadata": {
  "kernelspec": {
   "display_name": "Python 3",
   "language": "python",
   "name": "python3"
  },
  "language_info": {
   "codemirror_mode": {
    "name": "ipython",
    "version": 3
   },
   "file_extension": ".py",
   "mimetype": "text/x-python",
   "name": "python",
   "nbconvert_exporter": "python",
   "pygments_lexer": "ipython3",
   "version": "3.10.11"
  }
 },
 "nbformat": 4,
 "nbformat_minor": 2
}
