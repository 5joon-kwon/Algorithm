{
 "cells": [
  {
   "cell_type": "code",
   "execution_count": 5,
   "metadata": {},
   "outputs": [
    {
     "name": "stdout",
     "output_type": "stream",
     "text": [
      "FRULA\n"
     ]
    }
   ],
   "source": [
    "li = input()\n",
    "bomb = input()\n",
    "\n",
    "while(True):\n",
    "    if len(li) == 0:\n",
    "        print('FRULA')\n",
    "        break\n",
    "    \n",
    "    # replace 함수는 O(N^2)이라 시간 초과\n",
    "    if bomb in li:\n",
    "        li = li.replace(bomb, '')\n",
    "    else:\n",
    "        print(li)\n",
    "        break"
   ]
  },
  {
   "cell_type": "code",
   "execution_count": null,
   "metadata": {},
   "outputs": [],
   "source": []
  }
 ],
 "metadata": {
  "kernelspec": {
   "display_name": "Python 3",
   "language": "python",
   "name": "python3"
  },
  "language_info": {
   "codemirror_mode": {
    "name": "ipython",
    "version": 3
   },
   "file_extension": ".py",
   "mimetype": "text/x-python",
   "name": "python",
   "nbconvert_exporter": "python",
   "pygments_lexer": "ipython3",
   "version": "3.10.11"
  }
 },
 "nbformat": 4,
 "nbformat_minor": 2
}
