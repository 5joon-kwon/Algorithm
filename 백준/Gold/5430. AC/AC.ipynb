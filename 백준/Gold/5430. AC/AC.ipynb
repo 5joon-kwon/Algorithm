import sys
T = int(input())

for _ in range(T):
    p = sys.stdin.readline().strip()
    n = int(sys.stdin.readline().strip())
    li = sys.stdin.readline().strip()
    num = li[1:-1]
    flag = 0
    
    if ',' in num:
        num = num.split(',')
    else:
        num = [num]
        
    for i in p:
        if i == 'R':
            num.reverse()
        else:
            if len(num) == 0 or num == ['']:
                flag = 1
                break
            else:
                num.pop(0)
    
    if flag == 1:
        print('error')
    else:
        if len(num) == (0 or 1):
            res = ''.join(num)
            print('[' + res + ']')
        else:
            res = ','.join(num)
            print('[' + res + ']')
