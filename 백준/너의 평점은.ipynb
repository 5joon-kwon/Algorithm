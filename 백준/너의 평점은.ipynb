{
 "cells": [
  {
   "cell_type": "code",
   "execution_count": null,
   "metadata": {},
   "outputs": [],
   "source": [
    "# Dictionary 를 이용한 풀이\n",
    "\n",
    "import sys\n",
    "input = sys.stdin.readline\n",
    "\n",
    "grade_dict = {\"A+\" : 4.5, \"A0\" : 4.0, \"B+\" : 3.5, \n",
    "              \"B0\" : 3.0, \"C+\" : 2.5, \"C0\" : 2.0, \n",
    "              \"D+\" : 1.5, \"D0\" : 1.0, \"F\" : 0.0}\n",
    "\n",
    "res = 0\n",
    "sum_credit = 0\n",
    "\n",
    "for _ in range(20):\n",
    "    name, credit, grade = input().strip().split()\n",
    "    if grade != 'P':\n",
    "        sum_credit += float(credit)\n",
    "        res += float(credit) * grade_dict[grade]\n",
    "\n",
    "print(f'{res / sum_credit:.6f}')"
   ]
  },
  {
   "cell_type": "code",
   "execution_count": null,
   "metadata": {},
   "outputs": [],
   "source": [
    "# List 를 이용한 풀이\n",
    "\n",
    "import sys\n",
    "input = sys.stdin.readline\n",
    "\n",
    "grade_list = ['A+', 'A0', 'B+', 'B0', 'C+', 'C0', 'D+', 'D0', 'F']\n",
    "grade_score_list = [4.5, 4.0, 3.5, 3.0, 2.5, 2.0, 1.5, 1.0, 0]\n",
    "\n",
    "res = 0\n",
    "sum_credit = 0\n",
    "\n",
    "for _ in range(20):\n",
    "    name, credit, grade = input().strip().split()\n",
    "    if grade != 'P':\n",
    "        sum_credit += float(credit)\n",
    "        res += float(credit) * grade_score_list[grade_list.index(grade)]\n",
    "\n",
    "print(f'{res / sum_credit:.6f}')"
   ]
  }
 ],
 "metadata": {
  "kernelspec": {
   "display_name": "Python 3",
   "language": "python",
   "name": "python3"
  },
  "language_info": {
   "codemirror_mode": {
    "name": "ipython",
    "version": 3
   },
   "file_extension": ".py",
   "mimetype": "text/x-python",
   "name": "python",
   "nbconvert_exporter": "python",
   "pygments_lexer": "ipython3",
   "version": "3.10.11"
  }
 },
 "nbformat": 4,
 "nbformat_minor": 2
}
