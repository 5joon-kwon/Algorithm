{
 "cells": [
  {
   "cell_type": "code",
   "execution_count": null,
   "metadata": {},
   "outputs": [],
   "source": [
    "import sys\n",
    "\n",
    "N, M = map(int, sys.stdin.readline().strip().split())\n",
    "\n",
    "# 집합을 사용\n",
    "set1 = set()\n",
    "set2 = set()\n",
    "\n",
    "for i in range(N + M):\n",
    "    if i < N:   # 듣도 못한 사람\n",
    "        set1.add(sys.stdin.readline().strip())\n",
    "    else:       # 보도 못한 사람\n",
    "        set2.add(sys.stdin.readline().strip())\n",
    "\n",
    "# 듣도 보도 못한 사람\n",
    "res = sorted(set1 & set2)\n",
    "\n",
    "print(len(res))\n",
    "\n",
    "for x in result:\n",
    "    print(x)"
   ]
  }
 ],
 "metadata": {
  "kernelspec": {
   "display_name": "Python 3",
   "language": "python",
   "name": "python3"
  },
  "language_info": {
   "codemirror_mode": {
    "name": "ipython",
    "version": 3
   },
   "file_extension": ".py",
   "mimetype": "text/x-python",
   "name": "python",
   "nbconvert_exporter": "python",
   "pygments_lexer": "ipython3",
   "version": "3.10.11"
  }
 },
 "nbformat": 4,
 "nbformat_minor": 2
}
