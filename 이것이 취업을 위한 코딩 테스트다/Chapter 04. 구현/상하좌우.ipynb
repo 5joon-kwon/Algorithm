{
 "cells": [
  {
   "cell_type": "code",
   "execution_count": null,
   "metadata": {},
   "outputs": [],
   "source": [
    "N = int(input())\n",
    "move = input().split()\n",
    "\n",
    "# 격자를 미리 만들어 두는 부분 없어도 된다.\n",
    "travel = []\n",
    "for x in range(1, N + 1):\n",
    "    li = []\n",
    "    for y in range(1, N + 1):\n",
    "        li.append([x,y])\n",
    "    travel.append(li)\n",
    "\n",
    "me = travel[0][0]\n",
    "\n",
    "# 저번에 배워놓고 또 C언어 식으로 풀었음\n",
    "for word in move:\n",
    "    if word == 'L':\n",
    "        if me[1] == 1:\n",
    "            continue\n",
    "        else:\n",
    "            me[1] -= 1\n",
    "    elif word == 'R':\n",
    "        if me[1] == N:\n",
    "            continue\n",
    "        else:\n",
    "            me[1] += 1\n",
    "    elif word == 'U':\n",
    "        if me[0] == 1:\n",
    "            continue\n",
    "        else:\n",
    "            me[0] -= 1\n",
    "    else:\n",
    "        if me[0] == N:\n",
    "            continue\n",
    "        else:\n",
    "            me[0] += 1\n",
    "\n",
    "print(me[0], me[1])"
   ]
  }
 ],
 "metadata": {
  "kernelspec": {
   "display_name": "Python 3",
   "language": "python",
   "name": "python3"
  },
  "language_info": {
   "codemirror_mode": {
    "name": "ipython",
    "version": 3
   },
   "file_extension": ".py",
   "mimetype": "text/x-python",
   "name": "python",
   "nbconvert_exporter": "python",
   "pygments_lexer": "ipython3",
   "version": "3.10.11"
  }
 },
 "nbformat": 4,
 "nbformat_minor": 2
}
