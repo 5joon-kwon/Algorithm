{
 "cells": [
  {
   "cell_type": "code",
   "execution_count": 3,
   "metadata": {},
   "outputs": [],
   "source": [
    "# 조건문 활용 풀이\n",
    "\n",
    "N = int(input())\n",
    "\n",
    "coin_num = 0\n",
    "\n",
    "if N // 500 > 0:\n",
    "    coin_num += N // 500\n",
    "    N %= 500\n",
    "\n",
    "if N // 100 > 0:\n",
    "    coin_num += N // 100\n",
    "    N %= 100\n",
    "\n",
    "if N // 50 > 0:\n",
    "    coin_num += N // 50\n",
    "    N %= 50\n",
    "\n",
    "if N // 10 > 0:\n",
    "    coin_num += N // 10\n",
    "    N %= 10\n",
    "\n",
    "print(coin)"
   ]
  },
  {
   "cell_type": "code",
   "execution_count": null,
   "metadata": {},
   "outputs": [],
   "source": [
    "# List 활용 풀이\n",
    "\n",
    "N = int(input())\n",
    "\n",
    "coins = [500, 100, 50, 10]\n",
    "coin_num = 0\n",
    "\n",
    "for coin in coins:\n",
    "    coin_num += N // coin\n",
    "    N %= coin\n",
    "\n",
    "print(coin_num)"
   ]
  }
 ],
 "metadata": {
  "kernelspec": {
   "display_name": "Python 3",
   "language": "python",
   "name": "python3"
  },
  "language_info": {
   "codemirror_mode": {
    "name": "ipython",
    "version": 3
   },
   "file_extension": ".py",
   "mimetype": "text/x-python",
   "name": "python",
   "nbconvert_exporter": "python",
   "pygments_lexer": "ipython3",
   "version": "3.10.11"
  }
 },
 "nbformat": 4,
 "nbformat_minor": 2
}
