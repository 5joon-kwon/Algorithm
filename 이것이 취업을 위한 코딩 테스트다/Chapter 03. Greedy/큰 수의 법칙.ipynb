{
 "cells": [
  {
   "cell_type": "code",
   "execution_count": 26,
   "metadata": {},
   "source": [
    "N, M, K = map(int, input().split())\n",
    "\n",
    "num_list = list(map(int, input().split()))\n",
    "num_list.sort(reverse = True)\n",
    "\n",
    "num_dict = {}\n",
    "\n",
    "for i in num_list:\n",
    "    if i in num_dict.keys():\n",
    "        num_dict[i] += 1\n",
    "    else:\n",
    "        num_dict[i] = 1\n",
    "\n",
    "res = 0\n",
    "i = 0\n",
    "k = 0\n",
    "\n",
    "for key, value in num_dict.items():\n",
    "    if i == 0:\n",
    "        first = key\n",
    "        i += 1\n",
    "    elif i == 1:\n",
    "        second = key\n",
    "        i += 1\n",
    "    else:\n",
    "        break\n",
    "\n",
    "if num_dict[num_list[0]] > 1:\n",
    "    for _ in range(M):\n",
    "        res += first\n",
    "else:\n",
    "    for _ in range(M):\n",
    "        if k != K:\n",
    "            res += first\n",
    "            k += 1\n",
    "        else:\n",
    "            res += second\n",
    "            k = 1\n",
    "\n",
    "print(res)"
   ]
  }
 ],
 "metadata": {
  "kernelspec": {
   "display_name": "Python 3",
   "language": "python",
   "name": "python3"
  },
  "language_info": {
   "codemirror_mode": {
    "name": "ipython",
    "version": 3
   },
   "file_extension": ".py",
   "mimetype": "text/x-python",
   "name": "python",
   "nbconvert_exporter": "python",
   "pygments_lexer": "ipython3",
   "version": "3.10.11"
  }
 },
 "nbformat": 4,
 "nbformat_minor": 2
}
