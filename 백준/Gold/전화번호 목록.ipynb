{
 "cells": [
  {
   "cell_type": "code",
   "execution_count": null,
   "metadata": {},
   "outputs": [],
   "source": [
    "t = int(input())\n",
    "\n",
    "for _ in range(t):\n",
    "    n = int(input())\n",
    "    num_li = []\n",
    "    flag = 0\n",
    "    for _ in range(n):\n",
    "        num = input()\n",
    "        res = ''\n",
    "        for i in num:\n",
    "            if res in num_li:\n",
    "                flag = 1\n",
    "                break\n",
    "            else:\n",
    "                res += i\n",
    "        if flag == 1:\n",
    "            print('NO')\n",
    "            break\n",
    "        else:\n",
    "            num_li.append(num)\n",
    "    if flag == 0:\n",
    "        print('YES')"
   ]
  }
 ],
 "metadata": {
  "kernelspec": {
   "display_name": "Python 3",
   "language": "python",
   "name": "python3"
  },
  "language_info": {
   "codemirror_mode": {
    "name": "ipython",
    "version": 3
   },
   "file_extension": ".py",
   "mimetype": "text/x-python",
   "name": "python",
   "nbconvert_exporter": "python",
   "pygments_lexer": "ipython3",
   "version": "3.10.11"
  }
 },
 "nbformat": 4,
 "nbformat_minor": 2
}
