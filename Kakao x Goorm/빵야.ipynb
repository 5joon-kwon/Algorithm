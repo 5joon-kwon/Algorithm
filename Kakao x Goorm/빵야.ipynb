{
 "cells": [
  {
   "cell_type": "code",
   "execution_count": null,
   "metadata": {},
   "outputs": [],
   "source": [
    "import sys\n",
    "input = sys.stdin.readline\n",
    "\n",
    "N = int(input())\n",
    "H = list(map(int, input().split()))\n",
    "\n",
    "ans = 0 # 정답\n",
    "ct = 0 # 권총이 발사된 횟수\n",
    "\n",
    "for i in range(N):\n",
    "\n",
    "    # 권총이 주는 피해가 1이 될 때까지 그리고 적의 체력이 남아있는 동안 권총을 발사한다.\n",
    "    while ct and H[i] > 0:\n",
    "        H[i] -= ct + 1\n",
    "        ct = (ct + 1) % 4\n",
    "        ans += 1\n",
    "\n",
    "    # 적이 쓰러졌다면 넘어간다.\n",
    "    if H[i] <= 0:\n",
    "        continue\n",
    "\n",
    "    # 1,2,3,4 총 네 번의 발사가 반복되는 것을 한 번에 계산한다.\n",
    "    q, H[i] = divmod(H[i], 10)\n",
    "    ans += q * 4\n",
    "\n",
    "    # 적이 쓰러지지 않았다면 체력은 10 미만이므로, 적의 체력이 남아있는 동안 권총을 발사한다.\n",
    "    while H[i] > 0:\n",
    "        H[i] -= ct + 1\n",
    "        ct = (ct + 1) % 4\n",
    "        ans += 1\n",
    "\n",
    "print(ans) "
   ]
  }
 ],
 "metadata": {
  "kernelspec": {
   "display_name": "Python 3",
   "language": "python",
   "name": "python3"
  },
  "language_info": {
   "name": "python",
   "version": "3.10.11"
  }
 },
 "nbformat": 4,
 "nbformat_minor": 2
}
